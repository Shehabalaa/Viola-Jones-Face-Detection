{
 "cells": [
  {
   "cell_type": "code",
   "execution_count": 1,
   "metadata": {},
   "outputs": [],
   "source": [
    "import cv2\n",
    "import numpy as np"
   ]
  },
  {
   "cell_type": "code",
   "execution_count": null,
   "metadata": {},
   "outputs": [],
   "source": [
    "s = 0\n",
    "h = 0\n",
    "\n",
    "def nothing(x):\n",
    "    pass\n",
    "\n",
    "cap = cv2.VideoCapture(0)\n",
    "windowName = \"Choose Mask\"  # window name\n",
    "cv2.namedWindow(windowName)\n",
    "\n",
    "cv2.createTrackbar(\"H lower\", windowName, 82, 255, nothing)\n",
    "cv2.createTrackbar(\"S lower\", windowName, 13, 255, nothing)\n",
    "cv2.createTrackbar(\"V lower\", windowName, 123, 255, nothing)\n",
    "\n",
    "cv2.createTrackbar(\"H upper\", windowName, 177, 255, nothing)\n",
    "cv2.createTrackbar(\"S upper\", windowName, 173, 255, nothing)\n",
    "cv2.createTrackbar(\"V upper\", windowName, 255, 255, nothing)\n",
    "c0=80;r0=180\n",
    "c1=c0+200;r1=int(r0+1.25*(c1-c0))\n",
    "m=40\n",
    "k=60\n",
    "m1=m+100\n",
    "k1=k+100\n",
    "while(True):\n",
    "    # Capture frame-by-frame\n",
    "    ret,frame = cap.read()\n",
    "    frame = cv2.GaussianBlur(frame,(5,5),3)\n",
    "    hsv_img = cv2.cvtColor(frame,cv2.COLOR_RGB2HSV)\n",
    "    hsv_l = np.array([cv2.getTrackbarPos('H lower',windowName),cv2.getTrackbarPos('S lower',windowName),cv2.getTrackbarPos('V lower',windowName)])\n",
    "    hsv_u = np.array([cv2.getTrackbarPos('H upper',windowName),cv2.getTrackbarPos('S upper',windowName),cv2.getTrackbarPos('V upper',windowName)])\n",
    "    mask = cv2.inRange(hsv_img, hsv_l, hsv_u)\n",
    "    res = cv2.bitwise_and(hsv_img,hsv_img, mask= mask)\n",
    "    mask_crop = np.zeros(frame.shape,dtype='uint8')\n",
    "    mask_crop[r0:r1,c0:c1,:] = 1\n",
    "    res = np.multiply(res,mask_crop)\n",
    "    kernel = np.ones((3,3),np.uint8)\n",
    "    res = cv2.erode(res,kernel,iterations = 1)\n",
    "    kernel = np.ones((2,2),np.uint8)\n",
    "    res = cv2.dilate(res,kernel,iterations = 3)    \n",
    "    \n",
    "    #cv2.rectangle(frame,(m),(m1,k1),(200,120,0),2)\n",
    "    cv2.imshow('segmented',cv2.cvtColor(res,cv2.COLOR_HSV2BGR))\n",
    "\n",
    "    if cv2.waitKey(1) & 0xFF == ord('c'):\n",
    "        break\n",
    "        \n",
    "cap.release()\n",
    "cv2.destroyAllWindows()"
   ]
  },
  {
   "cell_type": "code",
   "execution_count": null,
   "metadata": {},
   "outputs": [],
   "source": []
  },
  {
   "cell_type": "code",
   "execution_count": null,
   "metadata": {},
   "outputs": [],
   "source": []
  }
 ],
 "metadata": {
  "kernelspec": {
   "display_name": "Python 3",
   "language": "python",
   "name": "python3"
  },
  "language_info": {
   "codemirror_mode": {
    "name": "ipython",
    "version": 3
   },
   "file_extension": ".py",
   "mimetype": "text/x-python",
   "name": "python",
   "nbconvert_exporter": "python",
   "pygments_lexer": "ipython3",
   "version": "3.6.6"
  }
 },
 "nbformat": 4,
 "nbformat_minor": 2
}

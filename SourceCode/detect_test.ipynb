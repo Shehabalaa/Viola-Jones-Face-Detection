{
 "cells": [
  {
   "cell_type": "code",
   "execution_count": 6,
   "metadata": {},
   "outputs": [],
   "source": [
    "from Cascade import Cascade\n",
    "from IntegralImage import toIntegralImage as toII\n",
    "import Utils\n",
    "import numpy as np\n",
    "import pandas as pd\n",
    "import seaborn as sns\n",
    "from functools import partial\n",
    "import random\n",
    "import pickle\n",
    "import cv2"
   ]
  },
  {
   "cell_type": "code",
   "execution_count": null,
   "metadata": {},
   "outputs": [],
   "source": [
    "cap = cv2.VideoCapture(0)\n",
    "Evaluator = Cascade('../Cascade/')\n",
    "while(True):\n",
    "    # Capture frame-by-frame\n",
    "    ret,frame = cap.read()\n",
    "    gray = cv2.cvtColor(frame, cv2.COLOR_BGR2GRAY)\n",
    "    gray = cv2.blur(gray,(5,5))\n",
    "    r=255\n",
    "    g=255\n",
    "    c0=270;r0=180\n",
    "    c1=c0+170;r1=int(r0+1.1*(c1-c0))\n",
    "    cropped= gray[r0:r1,c0:c1]\n",
    "    res = Evaluator.predict([ toII( Utils.varianceNormalize( cv2.resize(cropped,(24,24)) ))])\n",
    "    \n",
    "    if(len(res)==0):\n",
    "        g=0\n",
    "        #print(res)\n",
    "    cv2.rectangle(frame,(c0,r0),(c1,r1),(r,g,0),2)\n",
    "    cv2.imshow('1s',frame)\n",
    "    if cv2.waitKey(1) & 0xFF == ord('q'):\n",
    "        break\n",
    "        \n",
    "# When everything done, release the capture\n",
    "cap.release()\n",
    "cv2.destroyAllWindows()"
   ]
  },
  {
   "cell_type": "raw",
   "metadata": {},
   "source": []
  },
  {
   "cell_type": "code",
   "execution_count": null,
   "metadata": {},
   "outputs": [],
   "source": []
  }
 ],
 "metadata": {
  "kernelspec": {
   "display_name": "Python 3",
   "language": "python",
   "name": "python3"
  },
  "language_info": {
   "codemirror_mode": {
    "name": "ipython",
    "version": 3
   },
   "file_extension": ".py",
   "mimetype": "text/x-python",
   "name": "python",
   "nbconvert_exporter": "python",
   "pygments_lexer": "ipython3",
   "version": "3.6.6"
  }
 },
 "nbformat": 4,
 "nbformat_minor": 2
}
